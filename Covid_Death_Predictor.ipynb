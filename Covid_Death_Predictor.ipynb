{
  "nbformat": 4,
  "nbformat_minor": 0,
  "metadata": {
    "colab": {
      "name": "Covid_Death_Predictor.ipynb",
      "provenance": [],
      "collapsed_sections": [],
      "toc_visible": true,
      "authorship_tag": "ABX9TyO9NK32VHp5JCquFB3JNQEL"
    },
    "kernelspec": {
      "name": "python3",
      "display_name": "Python 3"
    },
    "accelerator": "GPU"
  },
  "cells": [
    {
      "cell_type": "markdown",
      "metadata": {
        "id": "wWypHLCqJURa"
      },
      "source": [
        "### Clark Whitehead: Covid 19 death prediction"
      ]
    },
    {
      "cell_type": "code",
      "metadata": {
        "colab": {
          "base_uri": "https://localhost:8080/"
        },
        "id": "xKB-vbZE2Tpo",
        "outputId": "d48333c1-e138-4e3c-ee5d-c6bd41273814"
      },
      "source": [
        "import tensorflow as tf\n",
        "from keras.models import Sequential\n",
        "import pandas as pd\n",
        "from keras.layers import Dense\n",
        "\n",
        "url = './covid_train.csv'\n",
        "\n",
        "data = pd.read_csv(url, delimiter=',')\n",
        "\n",
        "labels=data['death']\n",
        "features = data.iloc[:,1:11]\n",
        "\n",
        "print(features)"
      ],
      "execution_count": null,
      "outputs": [
        {
          "output_type": "stream",
          "text": [
            "        sex  age  obesity  ...  renal  cardiovascular  hospital_id\n",
            "0         1   37        2  ...      2               2            9\n",
            "1         2   73        1  ...      2               2            9\n",
            "2         1   59        2  ...      2               2            9\n",
            "3         2   65        2  ...      2               2            9\n",
            "4         2   70        1  ...      2               2            9\n",
            "...     ...  ...      ...  ...    ...             ...          ...\n",
            "924462    1   42        2  ...      2               2            8\n",
            "924463    1   80        2  ...      2               2            8\n",
            "924464    2   62        1  ...      2               1            5\n",
            "924465    1   35        1  ...      2               2           11\n",
            "924466    2   60        2  ...      2               2           19\n",
            "\n",
            "[924467 rows x 10 columns]\n"
          ],
          "name": "stdout"
        }
      ]
    },
    {
      "cell_type": "code",
      "metadata": {
        "id": "fGh7ZTJv66xD"
      },
      "source": [
        "import numpy as np\n",
        "from sklearn.model_selection import train_test_split\n",
        "\n",
        "x=features\n",
        "\n",
        "y=np.ravel(labels).astype(int)\n",
        "\n",
        "x_train, x_test, y_train, y_test = train_test_split(x, y, test_size=0.25, random_state=42)\n",
        "\n",
        "print(x_train)\n",
        "print(y_train)\n",
        "\n",
        "print(len(x_test))\n",
        "print(len(y_test))"
      ],
      "execution_count": null,
      "outputs": []
    },
    {
      "cell_type": "code",
      "metadata": {
        "colab": {
          "base_uri": "https://localhost:8080/"
        },
        "id": "6vZCslmHxIYH",
        "outputId": "cd6dacba-9f02-4530-8e7c-81cd7be666a7"
      },
      "source": [
        "print(len(x_test))\n",
        "print(len(y_test))\n",
        "\n",
        "def NormalizeData(data):\n",
        "    return (data - np.min(data)) / (np.max(data) - np.min(data))\n",
        "\n",
        "NormalizeData(x_train)\n",
        "NormalizeData(x_test)\n",
        "\n",
        "print(len(x_test))\n",
        "print(len(y_test))"
      ],
      "execution_count": null,
      "outputs": [
        {
          "output_type": "stream",
          "text": [
            "231117\n",
            "231117\n",
            "231117\n",
            "231117\n"
          ],
          "name": "stdout"
        }
      ]
    },
    {
      "cell_type": "code",
      "metadata": {
        "id": "MseZuDis8Hlj"
      },
      "source": [
        "# from sklearn.preprocessing import StandardScaler\n",
        "\n",
        "# scaler = StandardScaler().fit(x_train)\n",
        "\n",
        "# print(x_train)\n",
        "\n",
        "# x_train = scaler.transform(x_train)\n",
        "\n",
        "# x_test = scaler.transform(x_test)\n",
        "\n",
        "# print(x_train)"
      ],
      "execution_count": null,
      "outputs": []
    },
    {
      "cell_type": "code",
      "metadata": {
        "colab": {
          "base_uri": "https://localhost:8080/"
        },
        "id": "6uXBXo97sHf9",
        "outputId": "5d20f6cd-864d-4b83-98c6-3a29b4479e6e"
      },
      "source": [
        "model = Sequential()\n",
        "\n",
        "model.add(Dense(10, activation='relu', input_shape=(10,)))\n",
        "\n",
        "model.add(Dense(32, activation='relu'))\n",
        "\n",
        "model.add(Dense(32, activation='relu'))\n",
        "\n",
        "model.add(Dense(32, activation='relu'))\n",
        "\n",
        "model.add(Dense(1, activation='sigmoid'))\n",
        "\n",
        "model.summary()\n",
        "\n",
        "\n",
        "model.compile(loss='binary_crossentropy',\n",
        "              optimizer='adam',\n",
        "              metrics=['accuracy'])\n",
        "                   \n",
        "model.fit(x_train, y_train,epochs=3, batch_size=156, verbose=1)"
      ],
      "execution_count": null,
      "outputs": [
        {
          "output_type": "stream",
          "text": [
            "Model: \"sequential_2\"\n",
            "_________________________________________________________________\n",
            "Layer (type)                 Output Shape              Param #   \n",
            "=================================================================\n",
            "dense_10 (Dense)             (None, 10)                110       \n",
            "_________________________________________________________________\n",
            "dense_11 (Dense)             (None, 6)                 66        \n",
            "_________________________________________________________________\n",
            "dense_12 (Dense)             (None, 4)                 28        \n",
            "_________________________________________________________________\n",
            "dense_13 (Dense)             (None, 2)                 10        \n",
            "_________________________________________________________________\n",
            "dense_14 (Dense)             (None, 1)                 3         \n",
            "=================================================================\n",
            "Total params: 217\n",
            "Trainable params: 217\n",
            "Non-trainable params: 0\n",
            "_________________________________________________________________\n",
            "Epoch 1/3\n",
            "4445/4445 [==============================] - 11s 2ms/step - loss: 0.4045 - accuracy: 0.8838\n",
            "Epoch 2/3\n",
            "4445/4445 [==============================] - 11s 2ms/step - loss: 0.2598 - accuracy: 0.8920\n",
            "Epoch 3/3\n",
            "4445/4445 [==============================] - 10s 2ms/step - loss: 0.2582 - accuracy: 0.8917\n"
          ],
          "name": "stdout"
        },
        {
          "output_type": "execute_result",
          "data": {
            "text/plain": [
              "<tensorflow.python.keras.callbacks.History at 0x7fb7e009c7b8>"
            ]
          },
          "metadata": {
            "tags": []
          },
          "execution_count": 7
        }
      ]
    },
    {
      "cell_type": "code",
      "metadata": {
        "id": "HtWp2vlq8g-C"
      },
      "source": [
        "# model = Sequential()\n",
        "\n",
        "# model.add(Dense(10000, activation='relu', input_shape=(10,)))\n",
        "\n",
        "# model.add(Dense(8000, activation='relu'))\n",
        "\n",
        "# model.add(Dense(5000, activation='relu'))\n",
        "\n",
        "# model.add(Dense(3000, activation='relu'))\n",
        "\n",
        "# model.add(Dense(1000, activation='relu'))\n",
        "\n",
        "# model.add(Dense(500, activation='relu'))\n",
        "\n",
        "# model.add(Dense(100, activation='relu'))\n",
        "\n",
        "# model.add(Dense(10, activation='relu'))\n",
        "\n",
        "\n",
        "# model.add(Dense(1, activation='sigmoid'))\n",
        "\n",
        "# model.summary()\n",
        "\n",
        "\n",
        "# model.compile(loss='binary_crossentropy',\n",
        "#               optimizer='adam',\n",
        "#               metrics=['accuracy'])\n",
        "                   \n",
        "# model.fit(x_train, y_train,epochs=3, batch_size=156, verbose=1)"
      ],
      "execution_count": null,
      "outputs": []
    },
    {
      "cell_type": "code",
      "metadata": {
        "id": "b--HCGF5yARo"
      },
      "source": [
        "print(len(x_test))"
      ],
      "execution_count": null,
      "outputs": []
    },
    {
      "cell_type": "code",
      "metadata": {
        "id": "_zCKmXCw9gXc"
      },
      "source": [
        "y_pred = model.predict(x_test)\n",
        "\n",
        "score = model.evaluate(x_test, y_test,verbose=1)\n",
        "\n",
        "print(\"score = \", score)"
      ],
      "execution_count": null,
      "outputs": []
    },
    {
      "cell_type": "code",
      "metadata": {
        "id": "jFINOV8Z90A2"
      },
      "source": [
        "import sklearn # Machine learning models.\n",
        "import sklearn.metrics # Area Under the ROC calculations.\n",
        "\n",
        "# Compute AUROC.\n",
        "val = sklearn.metrics.roc_auc_score(y_test, y_pred) #predictions[:,1]\n",
        "print(f'Validation AUROC: {val}' )"
      ],
      "execution_count": null,
      "outputs": []
    },
    {
      "cell_type": "code",
      "metadata": {
        "id": "ZUA4j_D49s9t"
      },
      "source": [
        "import matplotlib.pylab as plt # Plotting\n",
        "\n",
        "# Plot ROC curve.\n",
        "fpr, tpr, thresholds = sklearn.metrics.roc_curve(y_test, y_pred)\n",
        "plt.plot(fpr, tpr)\n",
        "plt.plot([0, 1], [0, 1], color='navy', linestyle='--')\n",
        "plt.xlim([0.0, 1.0])\n",
        "plt.ylim([0.0, 1.05])\n",
        "plt.xlabel('False Positive Rate')\n",
        "plt.ylabel('True Positive Rate')"
      ],
      "execution_count": null,
      "outputs": []
    },
    {
      "cell_type": "code",
      "metadata": {
        "id": "rc6UjVbV_E6T"
      },
      "source": [
        "url = './covid_test.csv'\n",
        "\n",
        "data = pd.read_csv(url, delimiter=',')\n",
        "\n",
        "features = data.iloc[:,0:10]\n",
        "\n",
        "x_test = scaler.transform(features)\n",
        "\n",
        "y_pred = model.predict(x_test, verbose=1)\n"
      ],
      "execution_count": null,
      "outputs": []
    },
    {
      "cell_type": "code",
      "metadata": {
        "id": "m-WpFjUGCErS"
      },
      "source": [
        "N = y_pred.shape[0]\n",
        "assert N == 150801, \"Predictions should have length 150801.\""
      ],
      "execution_count": null,
      "outputs": []
    },
    {
      "cell_type": "code",
      "metadata": {
        "id": "bA8cI4enGQ9B"
      },
      "source": [
        "df = pd.DataFrame(y_pred, columns=['prediction']) # Create pandas dataframe.\n",
        "df.index.name = 'Id' # Name the index column.\n",
        "df.to_csv('submissions.csv', index=True, header=True)"
      ],
      "execution_count": null,
      "outputs": []
    }
  ]
}