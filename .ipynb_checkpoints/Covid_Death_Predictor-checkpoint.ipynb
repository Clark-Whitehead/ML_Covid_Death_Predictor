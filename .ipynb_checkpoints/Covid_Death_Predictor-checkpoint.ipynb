{
 "cells": [
  {
   "cell_type": "markdown",
   "metadata": {
    "id": "wWypHLCqJURa"
   },
   "source": [
    "# Covid Death Predictor Based on Health Stats\n",
    "### Clark Whitehead: Covid 19 death prediction"
   ]
  },
  {
   "cell_type": "markdown",
   "metadata": {},
   "source": [
    "# 1. Load imports and Data"
   ]
  },
  {
   "cell_type": "code",
   "execution_count": 1,
   "metadata": {
    "colab": {
     "base_uri": "https://localhost:8080/"
    },
    "id": "xKB-vbZE2Tpo",
    "outputId": "d48333c1-e138-4e3c-ee5d-c6bd41273814"
   },
   "outputs": [
    {
     "name": "stdout",
     "output_type": "stream",
     "text": [
      "         sex  age  obesity  diabetes  hypertension  asthma  smoking  renal  \\\n",
      "0          1   37        2         2             2       2        2      2   \n",
      "1          2   73        1         2             1       2        2      2   \n",
      "2          1   59        2         2             2       2        2      2   \n",
      "3          2   65        2         2             2       2        2      2   \n",
      "4          2   70        1         2             1       2        2      2   \n",
      "...      ...  ...      ...       ...           ...     ...      ...    ...   \n",
      "1517590    2   15        2         2             2       2        2      2   \n",
      "1517591    1   23        2         2             2       2        2      2   \n",
      "1517592    1   68        2         1             2       2        2      2   \n",
      "1517593    2   49        2         1             1       2        2      2   \n",
      "1517594    2   57        2         2             2       2        2      2   \n",
      "\n",
      "         cardiovascular  hospital_id  \n",
      "0                     2            9  \n",
      "1                     2            9  \n",
      "2                     2            9  \n",
      "3                     2            9  \n",
      "4                     2            9  \n",
      "...                 ...          ...  \n",
      "1517590               2           27  \n",
      "1517591               2            9  \n",
      "1517592               2            9  \n",
      "1517593               2            9  \n",
      "1517594               2            9  \n",
      "\n",
      "[1517595 rows x 10 columns]\n"
     ]
    }
   ],
   "source": [
    "import tensorflow as tf\n",
    "from keras.models import Sequential\n",
    "import pandas as pd\n",
    "from keras.layers import Dense\n",
    "import numpy as np\n",
    "from sklearn.model_selection import train_test_split\n",
    "\n",
    "url = './covid_train.csv'\n",
    "\n",
    "data = pd.read_csv(url, delimiter=',')\n",
    "\n",
    "labels=data['death']\n",
    "features = data.iloc[:,1:11]\n",
    "\n",
    "print(features)"
   ]
  },
  {
   "cell_type": "markdown",
   "metadata": {},
   "source": [
    "# 2. Assign Data"
   ]
  },
  {
   "cell_type": "code",
   "execution_count": 2,
   "metadata": {
    "id": "fGh7ZTJv66xD"
   },
   "outputs": [
    {
     "name": "stdout",
     "output_type": "stream",
     "text": [
      "         sex  age  obesity  diabetes  hypertension  asthma  smoking  renal  \\\n",
      "183640     1   79        2         1             1       2        2      2   \n",
      "312022     2   44        2         1             1       2        2      2   \n",
      "1291768    2   31        2         2             2       2        2      2   \n",
      "132443     1   29        2         2             2       2        2      2   \n",
      "788635     1   46        2         1             2       1        2      2   \n",
      "...      ...  ...      ...       ...           ...     ...      ...    ...   \n",
      "259178     1   61        2         2             2       2        2      2   \n",
      "1414414    2   62        2         2             2       2        1      2   \n",
      "131932     1   26        2         2             2       2        2      2   \n",
      "671155     2   47        2         2             2       2        2      2   \n",
      "121958     1   35        2         2             2       2        2      2   \n",
      "\n",
      "         cardiovascular  hospital_id  \n",
      "183640                2           16  \n",
      "312022                2           11  \n",
      "1291768               2           26  \n",
      "132443                2            9  \n",
      "788635                2           25  \n",
      "...                 ...          ...  \n",
      "259178                2           15  \n",
      "1414414               2            9  \n",
      "131932                2            2  \n",
      "671155                2           15  \n",
      "121958                2           28  \n",
      "\n",
      "[1138196 rows x 10 columns]\n",
      "[0 0 0 ... 0 0 0]\n",
      "379399\n",
      "379399\n"
     ]
    }
   ],
   "source": [
    "x=features\n",
    "\n",
    "y=np.ravel(labels).astype(int)\n",
    "\n",
    "x_train, x_test, y_train, y_test = train_test_split(x, y, test_size=0.25, random_state=42)\n",
    "\n",
    "print(x_train)\n",
    "print(y_train)\n",
    "\n",
    "print(len(x_test))\n",
    "print(len(y_test))"
   ]
  },
  {
   "cell_type": "markdown",
   "metadata": {},
   "source": [
    "# (optional) How to normalize without sklearn"
   ]
  },
  {
   "cell_type": "code",
   "execution_count": 19,
   "metadata": {
    "colab": {
     "base_uri": "https://localhost:8080/"
    },
    "id": "6vZCslmHxIYH",
    "outputId": "cd6dacba-9f02-4530-8e7c-81cd7be666a7"
   },
   "outputs": [
    {
     "name": "stdout",
     "output_type": "stream",
     "text": [
      "379399\n",
      "379399\n"
     ]
    }
   ],
   "source": [
    "# def NormalizeData(data):\n",
    "#     return (data - np.min(data)) / (np.max(data) - np.min(data))\n",
    "\n",
    "# NormalizeData(x_train)\n",
    "# NormalizeData(x_test)\n",
    "\n",
    "# print(len(x_test))\n",
    "# print(len(y_test))"
   ]
  },
  {
   "cell_type": "markdown",
   "metadata": {},
   "source": [
    "# 3. Normalize data for training"
   ]
  },
  {
   "cell_type": "code",
   "execution_count": 3,
   "metadata": {
    "id": "MseZuDis8Hlj"
   },
   "outputs": [],
   "source": [
    "from sklearn.preprocessing import StandardScaler\n",
    "\n",
    "scaler = StandardScaler().fit(x_train)\n",
    "\n",
    "x_train = scaler.transform(x_train)\n",
    "\n",
    "x_test = scaler.transform(x_test)"
   ]
  },
  {
   "cell_type": "markdown",
   "metadata": {},
   "source": [
    "# 4. Train Model"
   ]
  },
  {
   "cell_type": "code",
   "execution_count": 4,
   "metadata": {
    "colab": {
     "base_uri": "https://localhost:8080/"
    },
    "id": "6uXBXo97sHf9",
    "outputId": "5d20f6cd-864d-4b83-98c6-3a29b4479e6e"
   },
   "outputs": [
    {
     "name": "stdout",
     "output_type": "stream",
     "text": [
      "Model: \"sequential\"\n",
      "_________________________________________________________________\n",
      " Layer (type)                Output Shape              Param #   \n",
      "=================================================================\n",
      " dense (Dense)               (None, 10)                110       \n",
      "                                                                 \n",
      " dense_1 (Dense)             (None, 32)                352       \n",
      "                                                                 \n",
      " dense_2 (Dense)             (None, 32)                1056      \n",
      "                                                                 \n",
      " dense_3 (Dense)             (None, 32)                1056      \n",
      "                                                                 \n",
      " dense_4 (Dense)             (None, 1)                 33        \n",
      "                                                                 \n",
      "=================================================================\n",
      "Total params: 2,607\n",
      "Trainable params: 2,607\n",
      "Non-trainable params: 0\n",
      "_________________________________________________________________\n",
      "Epoch 1/3\n",
      "7297/7297 [==============================] - 10s 1ms/step - loss: 0.2295 - accuracy: 0.9089\n",
      "Epoch 2/3\n",
      "7297/7297 [==============================] - 10s 1ms/step - loss: 0.2244 - accuracy: 0.9091\n",
      "Epoch 3/3\n",
      "7297/7297 [==============================] - 10s 1ms/step - loss: 0.2235 - accuracy: 0.9093\n"
     ]
    },
    {
     "data": {
      "text/plain": [
       "<keras.callbacks.History at 0x7fad93ca3640>"
      ]
     },
     "execution_count": 4,
     "metadata": {},
     "output_type": "execute_result"
    }
   ],
   "source": [
    "model = Sequential()\n",
    "\n",
    "model.add(Dense(10, activation='relu', input_shape=(10,)))\n",
    "\n",
    "model.add(Dense(32, activation='relu'))\n",
    "\n",
    "model.add(Dense(32, activation='relu'))\n",
    "\n",
    "model.add(Dense(32, activation='relu'))\n",
    "\n",
    "model.add(Dense(1, activation='sigmoid'))\n",
    "\n",
    "model.summary()\n",
    "\n",
    "\n",
    "model.compile(loss='binary_crossentropy',\n",
    "              optimizer='adam',\n",
    "              metrics=['accuracy'])\n",
    "                   \n",
    "model.fit(x_train, y_train,epochs=3, batch_size=156, verbose=1)"
   ]
  },
  {
   "cell_type": "markdown",
   "metadata": {},
   "source": [
    "# 5. Evaluate Model"
   ]
  },
  {
   "cell_type": "code",
   "execution_count": 5,
   "metadata": {
    "id": "_zCKmXCw9gXc"
   },
   "outputs": [
    {
     "name": "stdout",
     "output_type": "stream",
     "text": [
      "11857/11857 [==============================] - 8s 695us/step - loss: 0.2239 - accuracy: 0.9090\n",
      "score =  [0.22388586401939392, 0.9090060591697693]\n"
     ]
    }
   ],
   "source": [
    "y_pred = model.predict(x_test)\n",
    "\n",
    "score = model.evaluate(x_test, y_test,verbose=1)\n",
    "\n",
    "print(\"score = \", score)"
   ]
  },
  {
   "cell_type": "markdown",
   "metadata": {},
   "source": [
    "# 6. Compute AUROC"
   ]
  },
  {
   "cell_type": "code",
   "execution_count": 6,
   "metadata": {
    "id": "jFINOV8Z90A2"
   },
   "outputs": [
    {
     "name": "stdout",
     "output_type": "stream",
     "text": [
      "Validation AUROC: 0.8672038840135247\n"
     ]
    }
   ],
   "source": [
    "import sklearn # Machine learning models.\n",
    "import sklearn.metrics # Area Under the ROC calculations.\n",
    "\n",
    "# Compute AUROC.\n",
    "val = sklearn.metrics.roc_auc_score(y_test, y_pred) #predictions[:,1]\n",
    "print(f'Validation AUROC: {val}' )"
   ]
  },
  {
   "cell_type": "markdown",
   "metadata": {},
   "source": [
    "# 7. Plot ROC Curve"
   ]
  },
  {
   "cell_type": "code",
   "execution_count": 7,
   "metadata": {
    "id": "ZUA4j_D49s9t"
   },
   "outputs": [
    {
     "data": {
      "text/plain": [
       "Text(0, 0.5, 'True Positive Rate')"
      ]
     },
     "execution_count": 7,
     "metadata": {},
     "output_type": "execute_result"
    },
    {
     "data": {
      "image/png": "[encoded data removed]",
      "text/plain": [
       "<Figure size 432x288 with 1 Axes>"
      ]
     },
     "metadata": {
      "needs_background": "light"
     },
     "output_type": "display_data"
    }
   ],
   "source": [
    "import matplotlib.pylab as plt # Plotting\n",
    "\n",
    "# Plot ROC curve.\n",
    "fpr, tpr, thresholds = sklearn.metrics.roc_curve(y_test, y_pred)\n",
    "plt.plot(fpr, tpr)\n",
    "plt.plot([0, 1], [0, 1], color='navy', linestyle='--')\n",
    "plt.xlim([0.0, 1.0])\n",
    "plt.ylim([0.0, 1.05])\n",
    "plt.xlabel('False Positive Rate')\n",
    "plt.ylabel('True Positive Rate')"
   ]
  },
  {
   "cell_type": "markdown",
   "metadata": {},
   "source": [
    "# Output predictions for Kaggle Competition (optional)"
   ]
  },
  {
   "cell_type": "code",
   "execution_count": 8,
   "metadata": {
    "id": "rc6UjVbV_E6T"
   },
   "outputs": [
    {
     "name": "stdout",
     "output_type": "stream",
     "text": [
      "4713/4713 [==============================] - 2s 438us/step\n"
     ]
    }
   ],
   "source": [
    "url = './covid_test.csv'\n",
    "\n",
    "data = pd.read_csv(url, delimiter=',')\n",
    "\n",
    "features = data.iloc[:,0:10]\n",
    "\n",
    "x_test = scaler.transform(features)\n",
    "\n",
    "y_pred = model.predict(x_test, verbose=1)\n"
   ]
  },
  {
   "cell_type": "code",
   "execution_count": 9,
   "metadata": {
    "id": "m-WpFjUGCErS"
   },
   "outputs": [],
   "source": [
    "N = y_pred.shape[0]\n",
    "assert N == 150801, \"Predictions should have length 150801.\""
   ]
  },
  {
   "cell_type": "code",
   "execution_count": 10,
   "metadata": {
    "id": "bA8cI4enGQ9B"
   },
   "outputs": [],
   "source": [
    "df = pd.DataFrame(y_pred, columns=['prediction']) # Create pandas dataframe.\n",
    "df.index.name = 'Id' # Name the index column.\n",
    "df.to_csv('submissions.csv', index=True, header=True)"
   ]
  }
 ],
 "metadata": {
  "accelerator": "GPU",
  "colab": {
   "authorship_tag": "ABX9TyO9NK32VHp5JCquFB3JNQEL",
   "collapsed_sections": [],
   "name": "Covid_Death_Predictor.ipynb",
   "provenance": [],
   "toc_visible": true
  },
  "kernelspec": {
   "display_name": "Python 3",
   "language": "python",
   "name": "python3"
  },
  "language_info": {
   "codemirror_mode": {
    "name": "ipython",
    "version": 3
   },
   "file_extension": ".py",
   "mimetype": "text/x-python",
   "name": "python",
   "nbconvert_exporter": "python",
   "pygments_lexer": "ipython3",
   "version": "3.8.8"
  }
 },
 "nbformat": 4,
 "nbformat_minor": 1
}
